{
 "cells": [
  {
   "cell_type": "markdown",
   "id": "d5a94ed9",
   "metadata": {},
   "source": [
    "# Australian Football League - PowerBI project\n",
    "\n",
    "### Author: Phuc An Nguyen \n",
    "\n",
    "**July 2023**"
   ]
  },
  {
   "cell_type": "markdown",
   "id": "74a5985e",
   "metadata": {},
   "source": [
    "## 1. Introduction\n",
    "\n",
    "The Australian Football League (AFL) stands as one of Australia's most beloved and significant sports, captivating millions of passionate fans across the nation, the AFL generates a massive amount of data each season. From player statistics, team performances, and match outcomes to fan engagement metrics and financial figures, this dataset holds a treasure trove of valuable insights waiting to be unlocked.\n",
    "\n",
    "In this context, fans and sports enthusiasts can gain a deeper appreciation and understanding of the game through data-driven visualizations. In this introduction, we'll explore the significance of these data-driven endeavors and shed light on why they are crucial for the AFL's continued growth and success: Improving Team Performance, Fan Engagement and Experience, Business and Revenue Strategies, Performance Benchmarking and Media Coverage and Storytelling.\n",
    "\n",
    "In this project, I will pose some inspiration questions and will represent the data using PowerBI tools to answer these questions. But first I have to do Descriptive analysis and Exploratory analysis to make sure that the data we use is good and of sufficient quality."
   ]
  },
  {
   "cell_type": "markdown",
   "id": "aa181d77",
   "metadata": {},
   "source": [
    "### 1.1. Data Description\n",
    "\n",
    "A total of 3 CSV files: `games`, `players` and `stats` will be used in this project to describe football matches from 2012 to 2021. Following is a detailed description for each CSV file:\n",
    "\n",
    "`games`:\n",
    "- **gameId**: Unique identifier\n",
    "- **year**: year game was held\n",
    "- **round**: round number\n",
    "- **date**: date game was played\n",
    "- **venue**: game venue\n",
    "- **startTime**: game start time, local TZ of venue, including summer time where applicable\n",
    "- **attendance**: crowd in attendance\n",
    "- **homeTeam**: Home team\n",
    "- **homeTeamScore**: Home team's final score\n",
    "- **awayTeam**: Visiting team\n",
    "- **awayTeamScore**: Visiting team's final score\n",
    "- **rainfall**: Rainfall (mm) on same day of game in that city\n",
    "\n",
    "`players`:\n",
    "- **playerId**: unique player identifier\n",
    "- **displayName**: player name (contains duplicates)\n",
    "- **height**: height (cm)\n",
    "- **weight**: weight (kg)\n",
    "- **dob**: date of birth\n",
    "- **position**: starting field position\n",
    "- **origin**: feeder (pre-AFL) club\n",
    "\n",
    "`stats`:\n",
    "- **gameId**: unique game identifier\n",
    "- **team**: team that the player played for in this game\n",
    "- **year**: year of game\n",
    "- **round**: round number\n",
    "- **playerId**: unique player identifier\n",
    "- **displayName**: player's name (contains duplicates)\n",
    "- **gameNumber**: The players career game number\n",
    "- **Disposals**\n",
    "- **Kicks**\n",
    "- **Marks**\n",
    "- **Handballs**\n",
    "- **Goals**\n",
    "- **Behinds**\n",
    "- **Hit Outs**\n",
    "- **Tackles**\n",
    "- **Rebounds**\n",
    "- **Inside 50s**\n",
    "- **Clearances**\n",
    "- **Clangers**\n",
    "- **Frees**\n",
    "- **Frees Against**\n",
    "- **Brownlow Votes**\n",
    "- **Contested Possessions**\n",
    "- **Uncontested Possessions**\n",
    "- **Contested Marks**\n",
    "- **Marks Inside 50**\n",
    "- **One Percenters**\n",
    "- **Bounces**\n",
    "- **Goal Assists**\n",
    "- **% Played**\n",
    "- **Subs**"
   ]
  },
  {
   "cell_type": "markdown",
   "id": "6ff46893",
   "metadata": {},
   "source": [
    "### 1.2. Inspiration questions"
   ]
  },
  {
   "cell_type": "markdown",
   "id": "82cbbf4f",
   "metadata": {},
   "source": [
    "### 1.3. Import libraries"
   ]
  },
  {
   "cell_type": "markdown",
   "id": "a2419b72",
   "metadata": {},
   "source": [
    "## 2. Exploratory Data Analysis (EDA)"
   ]
  },
  {
   "cell_type": "markdown",
   "id": "3c5f0cef",
   "metadata": {},
   "source": [
    "### 2.1. Data Exploration"
   ]
  },
  {
   "cell_type": "markdown",
   "id": "0d617569",
   "metadata": {},
   "source": [
    "### 2.2. Data Wrangling"
   ]
  },
  {
   "cell_type": "code",
   "execution_count": null,
   "id": "1e4d0ae6",
   "metadata": {},
   "outputs": [],
   "source": []
  },
  {
   "cell_type": "code",
   "execution_count": null,
   "id": "ec5c2570",
   "metadata": {},
   "outputs": [],
   "source": []
  },
  {
   "cell_type": "code",
   "execution_count": null,
   "id": "2317dd2c",
   "metadata": {},
   "outputs": [],
   "source": []
  },
  {
   "cell_type": "code",
   "execution_count": null,
   "id": "516d5290",
   "metadata": {},
   "outputs": [],
   "source": []
  },
  {
   "cell_type": "code",
   "execution_count": null,
   "id": "d780d24d",
   "metadata": {},
   "outputs": [],
   "source": []
  },
  {
   "cell_type": "markdown",
   "id": "489015dd",
   "metadata": {},
   "source": [
    "## References"
   ]
  },
  {
   "cell_type": "markdown",
   "id": "a8335c1f",
   "metadata": {},
   "source": [
    "The dataset is collected from source: https://www.kaggle.com/datasets/stoney71/aflstats?resource=download"
   ]
  },
  {
   "cell_type": "markdown",
   "id": "1ebbaf5e",
   "metadata": {},
   "source": [
    "https://blog.enterprisedna.co/18-incredible-power-bi-dashboard-examples/"
   ]
  },
  {
   "cell_type": "code",
   "execution_count": null,
   "id": "1a9abe8d",
   "metadata": {},
   "outputs": [],
   "source": []
  }
 ],
 "metadata": {
  "kernelspec": {
   "display_name": "Python 3 (ipykernel)",
   "language": "python",
   "name": "python3"
  },
  "language_info": {
   "codemirror_mode": {
    "name": "ipython",
    "version": 3
   },
   "file_extension": ".py",
   "mimetype": "text/x-python",
   "name": "python",
   "nbconvert_exporter": "python",
   "pygments_lexer": "ipython3",
   "version": "3.9.7"
  }
 },
 "nbformat": 4,
 "nbformat_minor": 5
}
